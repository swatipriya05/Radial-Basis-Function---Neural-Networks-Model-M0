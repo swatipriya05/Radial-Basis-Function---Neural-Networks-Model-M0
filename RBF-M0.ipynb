{
 "cells": [
  {
   "cell_type": "code",
   "execution_count": 10,
   "metadata": {},
   "outputs": [],
   "source": [
    "import pandas as pd\n",
    "import numpy as np\n",
    "import matplotlib.pyplot as plt\n",
    "import seaborn as sns\n",
    "import random\n",
    "import warnings\n",
    "import math\n",
    "from sklearn.model_selection import train_test_split\n",
    "from sklearn.preprocessing import MinMaxScaler, LabelEncoder\n",
    "from sklearn.cluster import KMeans"
   ]
  },
  {
   "cell_type": "code",
   "execution_count": 11,
   "metadata": {},
   "outputs": [],
   "source": [
    "random.seed(42)"
   ]
  },
  {
   "cell_type": "code",
   "execution_count": 12,
   "metadata": {},
   "outputs": [],
   "source": [
    "warnings.filterwarnings('ignore')"
   ]
  },
  {
   "cell_type": "code",
   "execution_count": 13,
   "metadata": {},
   "outputs": [],
   "source": [
    "class M1:\n",
    "    def __init__(self, nodes: int, lr: float = 0.01) -> None:\n",
    "        self.lr: float = lr\n",
    "        self.nodes: int = nodes\n",
    "\n",
    "    def _calc(self, x: np.array, center: np.array, std: float) -> float:\n",
    "        return np.exp(- np.linalg.norm(x - center) ** 2 / ( 2 * std ** 2))\n",
    "\n",
    "    def _initialise_weights(self) -> None:\n",
    "        self.weights: np.array = np.array([random.uniform(-1, 1) for _ in range(self.nodes)])\n",
    "\n",
    "    def initialise_centers(self, centers: np.array) -> None:\n",
    "        self.centers: np.array = centers.astype(np.float64)\n",
    "    \n",
    "    def initialise_std(self, df: pd.DataFrame, min_points: int = 2) -> None:\n",
    "        # min_points -> p\n",
    "        std = []\n",
    "        for i in range(self.nodes):\n",
    "            pts: list[float] = []\n",
    "            for j in range(len(df)):\n",
    "                if np.array_equal(self.centers[i], np.array(df.iloc[j])):\n",
    "                    continue\n",
    "                temp = self.centers[i] - np.array(df.iloc[j])\n",
    "                pts.append(np.dot(temp.T, temp))\n",
    "            \n",
    "            pts.sort()\n",
    "            add: float = np.sum(pts[: min_points])\n",
    "            std.append(np.sqrt(add / min_points))\n",
    "        self.std = np.array(std)\n",
    "\n",
    "    def fit(self, X: pd.DataFrame, Y: pd.DataFrame, epochs = 100) -> None:\n",
    "        self._initialise_weights()\n",
    "\n",
    "        for epoch in range(epochs):\n",
    "            for i, x in enumerate(X):\n",
    "                curr: np.array = np.array(X.iloc[i])\n",
    "                output: np.array = np.array([self._calc(curr, center, std) for center, std in zip(self.centers, self.std)])\n",
    "                predicted: float = np.dot(output, self.weights)\n",
    "                error = Y.iloc[i] - predicted\n",
    "                self.weights -= self.lr * (- (error) * output)\n",
    "            mse: float = np.mean((Y - self.predict(X)) ** 2)\n",
    "            print(f\"Epoch {epoch + 1} / {epochs}, Mean Squared Error: {mse}\")\n",
    "\n",
    "    def predict(self, X) -> np.array:\n",
    "        preds: list[float] = []\n",
    "        for i in range(len(X)):\n",
    "            curr: np.array = np.array(X.iloc[i])\n",
    "            outs: np.array = np.array([self._calc(curr, center, std) for center, std in zip(self.centers, self.std)])\n",
    "            preds.append(np.dot(outs, self.weights))\n",
    "        return preds\n",
    "            "
   ]
  },
  {
   "cell_type": "code",
   "execution_count": 14,
   "metadata": {},
   "outputs": [
    {
     "data": {
      "text/html": [
       "<div>\n",
       "<style scoped>\n",
       "    .dataframe tbody tr th:only-of-type {\n",
       "        vertical-align: middle;\n",
       "    }\n",
       "\n",
       "    .dataframe tbody tr th {\n",
       "        vertical-align: top;\n",
       "    }\n",
       "\n",
       "    .dataframe thead th {\n",
       "        text-align: right;\n",
       "    }\n",
       "</style>\n",
       "<table border=\"1\" class=\"dataframe\">\n",
       "  <thead>\n",
       "    <tr style=\"text-align: right;\">\n",
       "      <th></th>\n",
       "      <th>X</th>\n",
       "      <th>Y</th>\n",
       "      <th>Output</th>\n",
       "    </tr>\n",
       "  </thead>\n",
       "  <tbody>\n",
       "    <tr>\n",
       "      <th>0</th>\n",
       "      <td>0</td>\n",
       "      <td>0</td>\n",
       "      <td>0</td>\n",
       "    </tr>\n",
       "    <tr>\n",
       "      <th>1</th>\n",
       "      <td>0</td>\n",
       "      <td>1</td>\n",
       "      <td>1</td>\n",
       "    </tr>\n",
       "    <tr>\n",
       "      <th>2</th>\n",
       "      <td>1</td>\n",
       "      <td>0</td>\n",
       "      <td>1</td>\n",
       "    </tr>\n",
       "    <tr>\n",
       "      <th>3</th>\n",
       "      <td>1</td>\n",
       "      <td>1</td>\n",
       "      <td>0</td>\n",
       "    </tr>\n",
       "  </tbody>\n",
       "</table>\n",
       "</div>"
      ],
      "text/plain": [
       "   X  Y  Output\n",
       "0  0  0       0\n",
       "1  0  1       1\n",
       "2  1  0       1\n",
       "3  1  1       0"
      ]
     },
     "execution_count": 14,
     "metadata": {},
     "output_type": "execute_result"
    }
   ],
   "source": [
    "data = [[0, 0, 0], [0, 1, 1], [1, 0, 1], [1, 1, 0]]\n",
    "df = pd.DataFrame(data)\n",
    "df.rename(columns={0: 'X', 1: 'Y', 2: 'Output'}, inplace=True)\n",
    "df"
   ]
  },
  {
   "cell_type": "code",
   "execution_count": 15,
   "metadata": {},
   "outputs": [],
   "source": [
    "x = df.drop(['Output'], axis=1)\n",
    "y = df['Output']"
   ]
  },
  {
   "cell_type": "code",
   "execution_count": 16,
   "metadata": {},
   "outputs": [],
   "source": [
    "model = M1(4)\n",
    "model.initialise_centers(np.array([[0, 0], [0, 1], [1, 0], [1, 1]]))\n",
    "model.initialise_std(x)"
   ]
  },
  {
   "cell_type": "code",
   "execution_count": 17,
   "metadata": {},
   "outputs": [
    {
     "name": "stdout",
     "output_type": "stream",
     "text": [
      "Epoch 1 / 100, Mean Squared Error: 2.682625541648229\n",
      "Epoch 2 / 100, Mean Squared Error: 2.535001110847229\n",
      "Epoch 3 / 100, Mean Squared Error: 2.3970780674831307\n",
      "Epoch 4 / 100, Mean Squared Error: 2.2682037115886\n",
      "Epoch 5 / 100, Mean Squared Error: 2.1477697445195787\n",
      "Epoch 6 / 100, Mean Squared Error: 2.0352092317557897\n",
      "Epoch 7 / 100, Mean Squared Error: 1.9299937740412842\n",
      "Epoch 8 / 100, Mean Squared Error: 1.8316308725531874\n",
      "Epoch 9 / 100, Mean Squared Error: 1.7396614747706844\n",
      "Epoch 10 / 100, Mean Squared Error: 1.6536576886324672\n",
      "Epoch 11 / 100, Mean Squared Error: 1.5732206534240754\n",
      "Epoch 12 / 100, Mean Squared Error: 1.4979785566310797\n",
      "Epoch 13 / 100, Mean Squared Error: 1.4275847867339488\n",
      "Epoch 14 / 100, Mean Squared Error: 1.3617162126094418\n",
      "Epoch 15 / 100, Mean Squared Error: 1.300071580845002\n",
      "Epoch 16 / 100, Mean Squared Error: 1.2423700228701227\n",
      "Epoch 17 / 100, Mean Squared Error: 1.1883496643650973\n",
      "Epoch 18 / 100, Mean Squared Error: 1.1377663299257026\n",
      "Epoch 19 / 100, Mean Squared Error: 1.0903923364449088\n",
      "Epoch 20 / 100, Mean Squared Error: 1.0460153691220648\n",
      "Epoch 21 / 100, Mean Squared Error: 1.0044374344284501\n",
      "Epoch 22 / 100, Mean Squared Error: 0.9654738847477901\n",
      "Epoch 23 / 100, Mean Squared Error: 0.9289525097731994\n",
      "Epoch 24 / 100, Mean Squared Error: 0.8947126900799866\n",
      "Epoch 25 / 100, Mean Squared Error: 0.8626046086084365\n",
      "Epoch 26 / 100, Mean Squared Error: 0.8324885160837817\n",
      "Epoch 27 / 100, Mean Squared Error: 0.8042340466734764\n",
      "Epoch 28 / 100, Mean Squared Error: 0.7777195804360695\n",
      "Epoch 29 / 100, Mean Squared Error: 0.7528316493526416\n",
      "Epoch 30 / 100, Mean Squared Error: 0.7294643839522064\n",
      "Epoch 31 / 100, Mean Squared Error: 0.7075189977477312\n",
      "Epoch 32 / 100, Mean Squared Error: 0.6869033068905974\n",
      "Epoch 33 / 100, Mean Squared Error: 0.6675312826293288\n",
      "Epoch 34 / 100, Mean Squared Error: 0.6493226343242119\n",
      "Epoch 35 / 100, Mean Squared Error: 0.6322024209237984\n",
      "Epoch 36 / 100, Mean Squared Error: 0.6161006889530805\n",
      "Epoch 37 / 100, Mean Squared Error: 0.6009521351969997\n",
      "Epoch 38 / 100, Mean Squared Error: 0.5866957923876639\n",
      "Epoch 39 / 100, Mean Squared Error: 0.5732747363197518\n",
      "Epoch 40 / 100, Mean Squared Error: 0.5606358129267447\n",
      "Epoch 41 / 100, Mean Squared Error: 0.548729383951321\n",
      "Epoch 42 / 100, Mean Squared Error: 0.5375090899370567\n",
      "Epoch 43 / 100, Mean Squared Error: 0.5269316293559083\n",
      "Epoch 44 / 100, Mean Squared Error: 0.516956552767309\n",
      "Epoch 45 / 100, Mean Squared Error: 0.5075460709804634\n",
      "Epoch 46 / 100, Mean Squared Error: 0.49866487626197736\n",
      "Epoch 47 / 100, Mean Squared Error: 0.4902799756966656\n",
      "Epoch 48 / 100, Mean Squared Error: 0.48236053587057415\n",
      "Epoch 49 / 100, Mean Squared Error: 0.4748777381022372\n",
      "Epoch 50 / 100, Mean Squared Error: 0.46780464350126794\n",
      "Epoch 51 / 100, Mean Squared Error: 0.4611160671828109\n",
      "Epoch 52 / 100, Mean Squared Error: 0.45478846101241316\n",
      "Epoch 53 / 100, Mean Squared Error: 0.44879980429875016\n",
      "Epoch 54 / 100, Mean Squared Error: 0.4431295018915671\n",
      "Epoch 55 / 100, Mean Squared Error: 0.437758289179385\n",
      "Epoch 56 / 100, Mean Squared Error: 0.4326681435161544\n",
      "Epoch 57 / 100, Mean Squared Error: 0.4278422016382939\n",
      "Epoch 58 / 100, Mean Squared Error: 0.4232646826635949\n",
      "Epoch 59 / 100, Mean Squared Error: 0.41892081629145195\n",
      "Epoch 60 / 100, Mean Squared Error: 0.41479677584993496\n",
      "Epoch 61 / 100, Mean Squared Error: 0.4108796158594927\n",
      "Epoch 62 / 100, Mean Squared Error: 0.4071572138056815\n",
      "Epoch 63 / 100, Mean Squared Error: 0.4036182158343622\n",
      "Epoch 64 / 100, Mean Squared Error: 0.4002519861024244\n",
      "Epoch 65 / 100, Mean Squared Error: 0.3970485595353533\n",
      "Epoch 66 / 100, Mean Squared Error: 0.3939985977599702\n",
      "Epoch 67 / 100, Mean Squared Error: 0.3910933479965187\n",
      "Epoch 68 / 100, Mean Squared Error: 0.3883246047090259\n",
      "Epoch 69 / 100, Mean Squared Error: 0.38568467382661464\n",
      "Epoch 70 / 100, Mean Squared Error: 0.383166339361243\n",
      "Epoch 71 / 100, Mean Squared Error: 0.3807628322592724\n",
      "Epoch 72 / 100, Mean Squared Error: 0.3784678013353738\n",
      "Epoch 73 / 100, Mean Squared Error: 0.3762752861476274\n",
      "Epoch 74 / 100, Mean Squared Error: 0.3741796916823045\n",
      "Epoch 75 / 100, Mean Squared Error: 0.3721757647258018\n",
      "Epoch 76 / 100, Mean Squared Error: 0.37025857180955446\n",
      "Epoch 77 / 100, Mean Squared Error: 0.3684234786215469\n",
      "Epoch 78 / 100, Mean Squared Error: 0.3666661307852916\n",
      "Epoch 79 / 100, Mean Squared Error: 0.364982435913906\n",
      "Epoch 80 / 100, Mean Squared Error: 0.36336854685321357\n",
      "Epoch 81 / 100, Mean Squared Error: 0.3618208460336571\n",
      "Epoch 82 / 100, Mean Squared Error: 0.3603359308562765\n",
      "Epoch 83 / 100, Mean Squared Error: 0.3589106000430926\n",
      "Epoch 84 / 100, Mean Squared Error: 0.35754184088697727\n",
      "Epoch 85 / 100, Mean Squared Error: 0.3562268173405088\n",
      "Epoch 86 / 100, Mean Squared Error: 0.35496285888742357\n",
      "Epoch 87 / 100, Mean Squared Error: 0.35374745014411035\n",
      "Epoch 88 / 100, Mean Squared Error: 0.35257822114216103\n",
      "Epoch 89 / 100, Mean Squared Error: 0.3514529382463217\n",
      "Epoch 90 / 100, Mean Squared Error: 0.35036949566528486\n",
      "Epoch 91 / 100, Mean Squared Error: 0.34932590751565284\n",
      "Epoch 92 / 100, Mean Squared Error: 0.34832030040209067\n",
      "Epoch 93 / 100, Mean Squared Error: 0.3473509064791971\n",
      "Epoch 94 / 100, Mean Squared Error: 0.34641605696295164\n",
      "Epoch 95 / 100, Mean Squared Error: 0.3455141760617797\n",
      "Epoch 96 / 100, Mean Squared Error: 0.34464377529929735\n",
      "Epoch 97 / 100, Mean Squared Error: 0.3438034482026925\n",
      "Epoch 98 / 100, Mean Squared Error: 0.3429918653324561\n",
      "Epoch 99 / 100, Mean Squared Error: 0.34220776963082056\n",
      "Epoch 100 / 100, Mean Squared Error: 0.34144997206778654\n"
     ]
    }
   ],
   "source": [
    "model.fit(x, y)"
   ]
  },
  {
   "cell_type": "code",
   "execution_count": 18,
   "metadata": {},
   "outputs": [
    {
     "data": {
      "text/plain": [
       "<Axes: xlabel='X', ylabel='Y'>"
      ]
     },
     "execution_count": 18,
     "metadata": {},
     "output_type": "execute_result"
    },
    {
     "data": {
      "image/png": "[encoded data removed]",
      "text/plain": [
       "<Figure size 640x480 with 1 Axes>"
      ]
     },
     "metadata": {},
     "output_type": "display_data"
    }
   ],
   "source": [
    "sns.scatterplot(data = df, hue='Output', x=df['X'], y=df['Y'])"
   ]
  },
  {
   "cell_type": "code",
   "execution_count": null,
   "metadata": {},
   "outputs": [],
   "source": []
  }
 ],
 "metadata": {
  "kernelspec": {
   "display_name": "base",
   "language": "python",
   "name": "python3"
  },
  "language_info": {
   "codemirror_mode": {
    "name": "ipython",
    "version": 3
   },
   "file_extension": ".py",
   "mimetype": "text/x-python",
   "name": "python",
   "nbconvert_exporter": "python",
   "pygments_lexer": "ipython3",
   "version": "3.11.7"
  }
 },
 "nbformat": 4,
 "nbformat_minor": 2
}
